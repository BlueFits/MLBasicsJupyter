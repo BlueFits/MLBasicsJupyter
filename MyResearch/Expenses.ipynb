{
 "cells": [
  {
   "cell_type": "code",
   "execution_count": 58,
   "metadata": {},
   "outputs": [],
   "source": [
    "import math\n",
    "\n",
    "IncomeBi = 3400 \n",
    "IncomeMonthly = IncomeBi * 2\n",
    "\n",
    "# Liabilities\n",
    "Liabilities = {\n",
    "    \"Gym\": 60,\n",
    "    \"Grocery\": 500,\n",
    "    \"RentExpense\": 2800,\n",
    "    \"CarExpense\": 1000,\n",
    "    \"InternetMisc\": 100,\n",
    "    \"PhoneBill\": 80,\n",
    "    \"SchoolLoan\": 80\n",
    "}\n",
    "\n",
    "LiabilitiesNoRent = {\n",
    "    \"Gym\": 60,\n",
    "    \"CarExpense\": 1000,\n",
    "    \"InternetMisc\": 100,\n",
    "    \"PhoneBill\": 80,\n",
    "    \"SchoolLoan\": 80\n",
    "}\n",
    "\n"
   ]
  },
  {
   "cell_type": "markdown",
   "metadata": {},
   "source": [
    "# Important Questions\n",
    "\n",
    "- What is my leftover amount of money after one month of renting?\n",
    "- Total amount of liabilities (grocery, gym, subscriptions)\n",
    "- How much can I save while renting per month\n",
    "\n"
   ]
  },
  {
   "cell_type": "code",
   "execution_count": 59,
   "metadata": {},
   "outputs": [
    {
     "name": "stdout",
     "output_type": "stream",
     "text": [
      "Income monthly $6800\n",
      "total amount of expense: $4620\n",
      "Amount leftover after expenses: $2180\n"
     ]
    }
   ],
   "source": [
    "totalLialblesMonthly  = sum(Liabilities.values())\n",
    "print(\"Income monthly\", \"$\" + str(IncomeMonthly))\n",
    "print(\"total amount of expense:\", \"$\" + str(totalLialblesMonthly))\n",
    "print(\"Amount leftover after expenses:\", \"$\" + str((IncomeMonthly - totalLialblesMonthly)))"
   ]
  },
  {
   "cell_type": "code",
   "execution_count": 60,
   "metadata": {},
   "outputs": [
    {
     "name": "stdout",
     "output_type": "stream",
     "text": [
      "2 months\n",
      "2740.0\n"
     ]
    }
   ],
   "source": [
    "GoalAmount = 10000\n",
    "noRentLiabile = sum(LiabilitiesNoRent.values())\n",
    "takeHome = (IncomeMonthly - noRentLiabile)\n",
    "NumOfDaysTillGoal = GoalAmount / takeHome\n",
    "print(str(math.ceil(NumOfDaysTillGoal)), \"months\")"
   ]
  }
 ],
 "metadata": {
  "kernelspec": {
   "display_name": "base",
   "language": "python",
   "name": "python3"
  },
  "language_info": {
   "codemirror_mode": {
    "name": "ipython",
    "version": 3
   },
   "file_extension": ".py",
   "mimetype": "text/x-python",
   "name": "python",
   "nbconvert_exporter": "python",
   "pygments_lexer": "ipython3",
   "version": "3.9.13"
  }
 },
 "nbformat": 4,
 "nbformat_minor": 2
}
